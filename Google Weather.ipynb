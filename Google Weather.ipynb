{
 "cells": [
  {
   "cell_type": "code",
   "execution_count": 20,
   "metadata": {},
   "outputs": [
    {
     "name": "stdout",
     "output_type": "stream",
     "text": [
      "kolkata 35 °C Haze\n"
     ]
    }
   ],
   "source": [
    "from requests_html import HTMLSession\n",
    "\n",
    "s = HTMLSession()\n",
    "\n",
    "query = 'kolkata'\n",
    "url = f'https://www.google.com/search?q=weather+{query}'\n",
    "\n",
    "r = s.get(url, headers={'User-Agent': 'Mozilla/5.0 (Windows NT 10.0; Win64; x64) AppleWebKit/537.36 (KHTML, like Gecko) Chrome/101.0.4951.67 Safari/537.36'})\n",
    "\n",
    "temperature = r.html.find('span#wob_tm', first=True).text\n",
    "unit = r.html.find('div.vk_bk.wob-unit span.wob_t', first=True).text\n",
    "description = r.html.find('div.VQF4g', first=True).find('span#wob_dc', first=True).text\n",
    "          \n",
    "print(query, temperature, unit, description)"
   ]
  },
  {
   "cell_type": "code",
   "execution_count": 21,
   "metadata": {},
   "outputs": [
    {
     "name": "stdout",
     "output_type": "stream",
     "text": [
      "bangalore 26 °C Partly cloudy\n"
     ]
    }
   ],
   "source": [
    "from requests_html import HTMLSession\n",
    "\n",
    "s = HTMLSession()\n",
    "\n",
    "query = 'bangalore'\n",
    "url = f'https://www.google.com/search?q=weather+{query}'\n",
    "\n",
    "r = s.get(url, headers={'User-Agent': 'Mozilla/5.0 (Windows NT 10.0; Win64; x64) AppleWebKit/537.36 (KHTML, like Gecko) Chrome/101.0.4951.67 Safari/537.36'})\n",
    "\n",
    "temperature = r.html.find('span#wob_tm', first=True).text\n",
    "unit = r.html.find('div.vk_bk.wob-unit span.wob_t', first=True).text\n",
    "description = r.html.find('div.VQF4g', first=True).find('span#wob_dc', first=True).text\n",
    "          \n",
    "print(query, temperature, unit, description)"
   ]
  },
  {
   "cell_type": "code",
   "execution_count": 22,
   "metadata": {},
   "outputs": [
    {
     "name": "stdout",
     "output_type": "stream",
     "text": [
      "london 15 °C Mostly sunny\n"
     ]
    }
   ],
   "source": [
    "from requests_html import HTMLSession\n",
    "\n",
    "s = HTMLSession()\n",
    "\n",
    "query = 'london'\n",
    "url = f'https://www.google.com/search?q=weather+{query}'\n",
    "\n",
    "r = s.get(url, headers={'User-Agent': 'Mozilla/5.0 (Windows NT 10.0; Win64; x64) AppleWebKit/537.36 (KHTML, like Gecko) Chrome/101.0.4951.67 Safari/537.36'})\n",
    "\n",
    "temperature = r.html.find('span#wob_tm', first=True).text\n",
    "unit = r.html.find('div.vk_bk.wob-unit span.wob_t', first=True).text\n",
    "description = r.html.find('div.VQF4g', first=True).find('span#wob_dc', first=True).text\n",
    "          \n",
    "print(query, temperature, unit, description)"
   ]
  },
  {
   "cell_type": "code",
   "execution_count": 23,
   "metadata": {},
   "outputs": [
    {
     "name": "stdout",
     "output_type": "stream",
     "text": [
      "washington 17 °C Clear\n"
     ]
    }
   ],
   "source": [
    "from requests_html import HTMLSession\n",
    "\n",
    "s = HTMLSession()\n",
    "\n",
    "query = 'washington'\n",
    "url = f'https://www.google.com/search?q=weather+{query}'\n",
    "\n",
    "r = s.get(url, headers={'User-Agent': 'Mozilla/5.0 (Windows NT 10.0; Win64; x64) AppleWebKit/537.36 (KHTML, like Gecko) Chrome/101.0.4951.67 Safari/537.36'})\n",
    "\n",
    "temperature = r.html.find('span#wob_tm', first=True).text\n",
    "unit = r.html.find('div.vk_bk.wob-unit span.wob_t', first=True).text\n",
    "description = r.html.find('div.VQF4g', first=True).find('span#wob_dc', first=True).text\n",
    "          \n",
    "print(query, temperature, unit, description)"
   ]
  }
 ],
 "metadata": {
  "kernelspec": {
   "display_name": "Python 3",
   "language": "python",
   "name": "python3"
  },
  "language_info": {
   "codemirror_mode": {
    "name": "ipython",
    "version": 3
   },
   "file_extension": ".py",
   "mimetype": "text/x-python",
   "name": "python",
   "nbconvert_exporter": "python",
   "pygments_lexer": "ipython3",
   "version": "3.7.4"
  }
 },
 "nbformat": 4,
 "nbformat_minor": 2
}
